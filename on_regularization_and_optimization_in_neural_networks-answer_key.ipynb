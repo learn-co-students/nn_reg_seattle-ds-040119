{
 "cells": [
  {
   "cell_type": "markdown",
   "metadata": {},
   "source": [
    "# Regularization and Optimization in Neural Networks\n",
    "\n",
    "## Regularization of NNs\n",
    "\n",
    "Does regularization make sense in the context of neural networks? <br/>\n",
    "\n",
    "Yes! We still have all of the salient ingredients: a loss function, overfitting vs. underfitting, and coefficients (weights) that could get too large.\n",
    "\n",
    "But there are now a few different flavors besides L1 and L2 regularization. (Note that L1 regularization is not common in the context of  neural networks.)"
   ]
  },
  {
   "cell_type": "code",
   "execution_count": 1,
   "metadata": {},
   "outputs": [
    {
     "name": "stderr",
     "output_type": "stream",
     "text": [
      "Using TensorFlow backend.\n"
     ]
    }
   ],
   "source": [
    "import pandas as pd\n",
    "from sklearn.model_selection import train_test_split\n",
    "from sklearn.preprocessing import StandardScaler\n",
    "from keras.models import Sequential\n",
    "from keras.layers import Dense\n",
    "from keras.utils import to_categorical\n",
    "from matplotlib import pyplot as plt\n",
    "%matplotlib inline"
   ]
  },
  {
   "cell_type": "code",
   "execution_count": 2,
   "metadata": {},
   "outputs": [
    {
     "data": {
      "text/html": [
       "<div>\n",
       "<style scoped>\n",
       "    .dataframe tbody tr th:only-of-type {\n",
       "        vertical-align: middle;\n",
       "    }\n",
       "\n",
       "    .dataframe tbody tr th {\n",
       "        vertical-align: top;\n",
       "    }\n",
       "\n",
       "    .dataframe thead th {\n",
       "        text-align: right;\n",
       "    }\n",
       "</style>\n",
       "<table border=\"1\" class=\"dataframe\">\n",
       "  <thead>\n",
       "    <tr style=\"text-align: right;\">\n",
       "      <th></th>\n",
       "      <th>fixed acidity</th>\n",
       "      <th>volatile acidity</th>\n",
       "      <th>citric acid</th>\n",
       "      <th>residual sugar</th>\n",
       "      <th>chlorides</th>\n",
       "      <th>free sulfur dioxide</th>\n",
       "      <th>total sulfur dioxide</th>\n",
       "      <th>density</th>\n",
       "      <th>pH</th>\n",
       "      <th>sulphates</th>\n",
       "      <th>alcohol</th>\n",
       "      <th>quality</th>\n",
       "      <th>red_wine</th>\n",
       "    </tr>\n",
       "  </thead>\n",
       "  <tbody>\n",
       "    <tr>\n",
       "      <th>0</th>\n",
       "      <td>7.4</td>\n",
       "      <td>0.70</td>\n",
       "      <td>0.00</td>\n",
       "      <td>1.9</td>\n",
       "      <td>0.076</td>\n",
       "      <td>11.0</td>\n",
       "      <td>34.0</td>\n",
       "      <td>0.9978</td>\n",
       "      <td>3.51</td>\n",
       "      <td>0.56</td>\n",
       "      <td>9.4</td>\n",
       "      <td>5</td>\n",
       "      <td>1</td>\n",
       "    </tr>\n",
       "    <tr>\n",
       "      <th>1</th>\n",
       "      <td>7.8</td>\n",
       "      <td>0.88</td>\n",
       "      <td>0.00</td>\n",
       "      <td>2.6</td>\n",
       "      <td>0.098</td>\n",
       "      <td>25.0</td>\n",
       "      <td>67.0</td>\n",
       "      <td>0.9968</td>\n",
       "      <td>3.20</td>\n",
       "      <td>0.68</td>\n",
       "      <td>9.8</td>\n",
       "      <td>5</td>\n",
       "      <td>1</td>\n",
       "    </tr>\n",
       "    <tr>\n",
       "      <th>2</th>\n",
       "      <td>7.8</td>\n",
       "      <td>0.76</td>\n",
       "      <td>0.04</td>\n",
       "      <td>2.3</td>\n",
       "      <td>0.092</td>\n",
       "      <td>15.0</td>\n",
       "      <td>54.0</td>\n",
       "      <td>0.9970</td>\n",
       "      <td>3.26</td>\n",
       "      <td>0.65</td>\n",
       "      <td>9.8</td>\n",
       "      <td>5</td>\n",
       "      <td>1</td>\n",
       "    </tr>\n",
       "    <tr>\n",
       "      <th>3</th>\n",
       "      <td>11.2</td>\n",
       "      <td>0.28</td>\n",
       "      <td>0.56</td>\n",
       "      <td>1.9</td>\n",
       "      <td>0.075</td>\n",
       "      <td>17.0</td>\n",
       "      <td>60.0</td>\n",
       "      <td>0.9980</td>\n",
       "      <td>3.16</td>\n",
       "      <td>0.58</td>\n",
       "      <td>9.8</td>\n",
       "      <td>6</td>\n",
       "      <td>1</td>\n",
       "    </tr>\n",
       "    <tr>\n",
       "      <th>4</th>\n",
       "      <td>7.4</td>\n",
       "      <td>0.70</td>\n",
       "      <td>0.00</td>\n",
       "      <td>1.9</td>\n",
       "      <td>0.076</td>\n",
       "      <td>11.0</td>\n",
       "      <td>34.0</td>\n",
       "      <td>0.9978</td>\n",
       "      <td>3.51</td>\n",
       "      <td>0.56</td>\n",
       "      <td>9.4</td>\n",
       "      <td>5</td>\n",
       "      <td>1</td>\n",
       "    </tr>\n",
       "  </tbody>\n",
       "</table>\n",
       "</div>"
      ],
      "text/plain": [
       "   fixed acidity  volatile acidity  citric acid  residual sugar  chlorides  \\\n",
       "0            7.4              0.70         0.00             1.9      0.076   \n",
       "1            7.8              0.88         0.00             2.6      0.098   \n",
       "2            7.8              0.76         0.04             2.3      0.092   \n",
       "3           11.2              0.28         0.56             1.9      0.075   \n",
       "4            7.4              0.70         0.00             1.9      0.076   \n",
       "\n",
       "   free sulfur dioxide  total sulfur dioxide  density    pH  sulphates  \\\n",
       "0                 11.0                  34.0   0.9978  3.51       0.56   \n",
       "1                 25.0                  67.0   0.9968  3.20       0.68   \n",
       "2                 15.0                  54.0   0.9970  3.26       0.65   \n",
       "3                 17.0                  60.0   0.9980  3.16       0.58   \n",
       "4                 11.0                  34.0   0.9978  3.51       0.56   \n",
       "\n",
       "   alcohol  quality  red_wine  \n",
       "0      9.4        5         1  \n",
       "1      9.8        5         1  \n",
       "2      9.8        5         1  \n",
       "3      9.8        6         1  \n",
       "4      9.4        5         1  "
      ]
     },
     "execution_count": 2,
     "metadata": {},
     "output_type": "execute_result"
    }
   ],
   "source": [
    "wine = pd.read_csv('wine.csv')\n",
    "wine.head()"
   ]
  },
  {
   "cell_type": "code",
   "execution_count": 3,
   "metadata": {},
   "outputs": [],
   "source": [
    "X = wine.drop('quality', axis=1)\n",
    "y = wine.quality"
   ]
  },
  {
   "cell_type": "code",
   "execution_count": 4,
   "metadata": {},
   "outputs": [
    {
     "data": {
      "text/plain": [
       "6    2836\n",
       "5    2138\n",
       "7    1079\n",
       "4     216\n",
       "8     193\n",
       "3      30\n",
       "9       5\n",
       "Name: quality, dtype: int64"
      ]
     },
     "execution_count": 4,
     "metadata": {},
     "output_type": "execute_result"
    }
   ],
   "source": [
    "wine['quality'].value_counts()"
   ]
  },
  {
   "cell_type": "code",
   "execution_count": 5,
   "metadata": {
    "scrolled": true
   },
   "outputs": [
    {
     "name": "stderr",
     "output_type": "stream",
     "text": [
      "/Users/gdamico/anaconda3/lib/python3.7/site-packages/sklearn/preprocessing/data.py:625: DataConversionWarning: Data with input dtype int64, float64 were all converted to float64 by StandardScaler.\n",
      "  return self.partial_fit(X, y)\n",
      "/Users/gdamico/anaconda3/lib/python3.7/site-packages/sklearn/base.py:462: DataConversionWarning: Data with input dtype int64, float64 were all converted to float64 by StandardScaler.\n",
      "  return self.fit(X, **fit_params).transform(X)\n",
      "/Users/gdamico/anaconda3/lib/python3.7/site-packages/ipykernel_launcher.py:5: DataConversionWarning: Data with input dtype int64, float64 were all converted to float64 by StandardScaler.\n",
      "  \"\"\"\n"
     ]
    }
   ],
   "source": [
    "X_train, X_test, y_train, y_test = train_test_split(X, y,\n",
    "                                                    random_state=11, stratify=y)\n",
    "ss = StandardScaler()\n",
    "X_train_s = ss.fit_transform(X_train)\n",
    "X_test_s = ss.transform(X_test)"
   ]
  },
  {
   "cell_type": "code",
   "execution_count": 6,
   "metadata": {},
   "outputs": [],
   "source": [
    "y_train = to_categorical(y_train)\n",
    "y_test = to_categorical(y_test)"
   ]
  },
  {
   "cell_type": "code",
   "execution_count": 8,
   "metadata": {},
   "outputs": [],
   "source": [
    "model = Sequential()\n",
    "\n",
    "n_input = X_train_s.shape[1]\n",
    "n_hidden = n_input\n",
    "\n",
    "model.add(Dense(n_hidden, input_dim=n_input, activation='relu'))\n",
    "model.add(Dense(10, activation='softmax'))"
   ]
  },
  {
   "cell_type": "code",
   "execution_count": 9,
   "metadata": {},
   "outputs": [],
   "source": [
    "model.compile(loss='categorical_crossentropy', optimizer='adam', metrics=['acc'])"
   ]
  },
  {
   "cell_type": "code",
   "execution_count": 10,
   "metadata": {},
   "outputs": [
    {
     "name": "stdout",
     "output_type": "stream",
     "text": [
      "WARNING:tensorflow:From /Users/gdamico/anaconda3/lib/python3.7/site-packages/tensorflow/python/ops/math_ops.py:3066: to_int32 (from tensorflow.python.ops.math_ops) is deprecated and will be removed in a future version.\n",
      "Instructions for updating:\n",
      "Use tf.cast instead.\n",
      "Train on 4872 samples, validate on 1625 samples\n",
      "Epoch 1/30\n",
      "4872/4872 [==============================] - 0s 57us/step - loss: 2.2038 - acc: 0.2073 - val_loss: 1.7907 - val_acc: 0.4037\n",
      "Epoch 2/30\n",
      "4872/4872 [==============================] - 0s 24us/step - loss: 1.5602 - acc: 0.4780 - val_loss: 1.3833 - val_acc: 0.5022\n",
      "Epoch 3/30\n",
      "4872/4872 [==============================] - 0s 24us/step - loss: 1.2880 - acc: 0.5226 - val_loss: 1.2361 - val_acc: 0.5206\n",
      "Epoch 4/30\n",
      "4872/4872 [==============================] - 0s 24us/step - loss: 1.1911 - acc: 0.5339 - val_loss: 1.1888 - val_acc: 0.5231\n",
      "Epoch 5/30\n",
      "4872/4872 [==============================] - 0s 24us/step - loss: 1.1504 - acc: 0.5411 - val_loss: 1.1643 - val_acc: 0.5237\n",
      "Epoch 6/30\n",
      "4872/4872 [==============================] - 0s 25us/step - loss: 1.1265 - acc: 0.5439 - val_loss: 1.1481 - val_acc: 0.5323\n",
      "Epoch 7/30\n",
      "4872/4872 [==============================] - 0s 25us/step - loss: 1.1100 - acc: 0.5515 - val_loss: 1.1358 - val_acc: 0.5286\n",
      "Epoch 8/30\n",
      "4872/4872 [==============================] - 0s 25us/step - loss: 1.0980 - acc: 0.5517 - val_loss: 1.1273 - val_acc: 0.5323\n",
      "Epoch 9/30\n",
      "4872/4872 [==============================] - 0s 25us/step - loss: 1.0879 - acc: 0.5530 - val_loss: 1.1188 - val_acc: 0.5298\n",
      "Epoch 10/30\n",
      "4872/4872 [==============================] - 0s 25us/step - loss: 1.0805 - acc: 0.5591 - val_loss: 1.1149 - val_acc: 0.5323\n",
      "Epoch 11/30\n",
      "4872/4872 [==============================] - 0s 25us/step - loss: 1.0740 - acc: 0.5560 - val_loss: 1.1101 - val_acc: 0.5286\n",
      "Epoch 12/30\n",
      "4872/4872 [==============================] - 0s 26us/step - loss: 1.0685 - acc: 0.5579 - val_loss: 1.1060 - val_acc: 0.5360\n",
      "Epoch 13/30\n",
      "4872/4872 [==============================] - 0s 25us/step - loss: 1.0640 - acc: 0.5581 - val_loss: 1.1039 - val_acc: 0.5311\n",
      "Epoch 14/30\n",
      "4872/4872 [==============================] - 0s 28us/step - loss: 1.0600 - acc: 0.5595 - val_loss: 1.1010 - val_acc: 0.5335\n",
      "Epoch 15/30\n",
      "4872/4872 [==============================] - 0s 25us/step - loss: 1.0560 - acc: 0.5630 - val_loss: 1.1001 - val_acc: 0.5360\n",
      "Epoch 16/30\n",
      "4872/4872 [==============================] - 0s 25us/step - loss: 1.0531 - acc: 0.5632 - val_loss: 1.0967 - val_acc: 0.5372\n",
      "Epoch 17/30\n",
      "4872/4872 [==============================] - 0s 24us/step - loss: 1.0493 - acc: 0.5614 - val_loss: 1.0951 - val_acc: 0.5372\n",
      "Epoch 18/30\n",
      "4872/4872 [==============================] - 0s 27us/step - loss: 1.0460 - acc: 0.5669 - val_loss: 1.0951 - val_acc: 0.5298\n",
      "Epoch 19/30\n",
      "4872/4872 [==============================] - 0s 26us/step - loss: 1.0431 - acc: 0.5647 - val_loss: 1.0930 - val_acc: 0.5385\n",
      "Epoch 20/30\n",
      "4872/4872 [==============================] - 0s 26us/step - loss: 1.0410 - acc: 0.5704 - val_loss: 1.0912 - val_acc: 0.5378\n",
      "Epoch 21/30\n",
      "4872/4872 [==============================] - 0s 25us/step - loss: 1.0384 - acc: 0.5692 - val_loss: 1.0907 - val_acc: 0.5397\n",
      "Epoch 22/30\n",
      "4872/4872 [==============================] - 0s 27us/step - loss: 1.0365 - acc: 0.5686 - val_loss: 1.0906 - val_acc: 0.5366\n",
      "Epoch 23/30\n",
      "4872/4872 [==============================] - 0s 24us/step - loss: 1.0344 - acc: 0.5665 - val_loss: 1.0879 - val_acc: 0.5372\n",
      "Epoch 24/30\n",
      "4872/4872 [==============================] - 0s 25us/step - loss: 1.0325 - acc: 0.5702 - val_loss: 1.0867 - val_acc: 0.5409\n",
      "Epoch 25/30\n",
      "4872/4872 [==============================] - 0s 27us/step - loss: 1.0305 - acc: 0.5683 - val_loss: 1.0863 - val_acc: 0.5471\n",
      "Epoch 26/30\n",
      "4872/4872 [==============================] - 0s 26us/step - loss: 1.0294 - acc: 0.5683 - val_loss: 1.0851 - val_acc: 0.5409\n",
      "Epoch 27/30\n",
      "4872/4872 [==============================] - 0s 25us/step - loss: 1.0278 - acc: 0.5679 - val_loss: 1.0869 - val_acc: 0.5422\n",
      "Epoch 28/30\n",
      "4872/4872 [==============================] - 0s 25us/step - loss: 1.0261 - acc: 0.5700 - val_loss: 1.0834 - val_acc: 0.5409\n",
      "Epoch 29/30\n",
      "4872/4872 [==============================] - 0s 25us/step - loss: 1.0248 - acc: 0.5700 - val_loss: 1.0855 - val_acc: 0.5397\n",
      "Epoch 30/30\n",
      "4872/4872 [==============================] - 0s 23us/step - loss: 1.0242 - acc: 0.5675 - val_loss: 1.0829 - val_acc: 0.5446\n"
     ]
    }
   ],
   "source": [
    "history = model.fit(X_train_s, y_train, validation_data=(X_test_s, y_test),\n",
    "                   epochs=30, batch_size=None)"
   ]
  },
  {
   "cell_type": "code",
   "execution_count": 135,
   "metadata": {},
   "outputs": [
    {
     "name": "stdout",
     "output_type": "stream",
     "text": [
      "[array([[-0.03638703, -0.11431559,  0.4577274 , -0.06667943,  0.18326788,\n",
      "        -0.61004126,  0.33907658,  0.26955926, -0.6192482 ,  0.06234331,\n",
      "        -0.30006433,  0.277624  ],\n",
      "       [ 0.10905323, -0.456263  ,  0.63094556, -0.22032613, -0.66194373,\n",
      "        -0.33986938,  0.23010273, -0.11522841,  0.5767498 , -0.4079036 ,\n",
      "         0.731156  , -0.15089917],\n",
      "       [ 0.30610386,  0.11713936, -0.22888887, -0.21414952, -0.20850481,\n",
      "         0.47768387,  0.02805647,  0.00534306, -0.1731033 , -0.06782998,\n",
      "         0.04679343, -0.00476062],\n",
      "       [ 0.36303008,  0.02586806,  0.26600435, -0.6871539 ,  0.157758  ,\n",
      "         0.58569413, -0.30117345,  0.24991429, -0.18791251,  0.3175496 ,\n",
      "        -0.37928405, -0.481422  ],\n",
      "       [ 0.3524185 ,  0.289836  ,  0.28531513,  0.13718858, -0.6772856 ,\n",
      "         0.12614919, -0.23211402, -0.6863566 ,  0.3106957 ,  0.14468144,\n",
      "        -0.03221573,  0.6262607 ],\n",
      "       [-0.10011648,  0.3333215 , -0.138564  , -0.04726948, -0.43072665,\n",
      "         0.25610545, -0.62757033,  0.4874813 , -0.6280377 ,  0.23585643,\n",
      "         0.19983527, -0.29327992],\n",
      "       [ 0.22583194, -0.41036037, -0.551352  ,  0.48170212,  0.60510236,\n",
      "        -0.565634  , -0.5137546 , -0.5773682 , -0.12147521,  0.1809222 ,\n",
      "         0.14775567, -0.5450319 ],\n",
      "       [ 0.13315073, -0.52054095,  0.17190419, -0.4109627 ,  0.21005712,\n",
      "         0.3399393 , -0.05609818, -0.5971058 ,  0.22413413, -0.3771618 ,\n",
      "         0.45935476, -0.3451237 ],\n",
      "       [-0.15746738, -0.1131508 , -0.14423011, -0.35116664, -0.10306654,\n",
      "        -0.00129142, -0.04197608,  0.6084706 , -0.18009292,  0.14821409,\n",
      "         0.17097771, -0.35087678],\n",
      "       [ 0.17621554,  0.25853142,  0.04540347,  0.44064474,  0.08060979,\n",
      "        -0.15111837, -0.28783146,  0.40383208, -0.24911197, -0.04839806,\n",
      "        -0.29423395, -0.02377045],\n",
      "       [-0.4390477 ,  0.57474345,  0.6606183 , -0.23870933,  0.03089153,\n",
      "         0.04564157, -0.03817477,  0.28496155, -0.04677949,  0.70216817,\n",
      "        -0.4168506 ,  0.1624534 ],\n",
      "       [ 0.06692305,  0.05444687,  0.02619929, -0.26356322, -0.55868906,\n",
      "        -0.8390186 , -0.44032326,  0.6488149 , -0.36527535,  0.07944883,\n",
      "         0.36649925,  0.6626571 ]], dtype=float32), array([-0.18478727,  0.2014042 , -0.34668386,  0.38590276,  0.5304006 ,\n",
      "        0.64041066, -0.16371596,  0.89210755, -0.09220999,  0.17612757,\n",
      "        0.78428024,  0.5544991 ], dtype=float32)]\n",
      "[array([[-0.04675039, -0.17630993, -0.05797834, -0.58090955, -0.14846444,\n",
      "        -0.08431014, -0.93117124],\n",
      "       [-0.7685396 , -0.15756564, -0.51134205, -0.17508791,  0.5695355 ,\n",
      "         0.05674571,  0.16726157],\n",
      "       [ 0.04590961, -0.4614423 , -0.77164245, -0.28897652,  0.08315226,\n",
      "        -0.14954363, -0.16423282],\n",
      "       [-0.4794831 ,  0.00597587,  0.6284669 ,  0.4904656 , -0.00426594,\n",
      "        -0.2972396 , -0.63670975],\n",
      "       [-0.5517222 ,  0.09821187,  0.1429028 ,  0.38464886,  0.38182747,\n",
      "        -0.2702704 , -0.65067506],\n",
      "       [-0.52182204, -0.30832824,  0.321178  ,  0.6358429 ,  0.21844597,\n",
      "         0.19915217, -0.5450098 ],\n",
      "       [ 0.31765437,  0.39510712, -0.09161175, -0.6100361 , -0.33601463,\n",
      "        -0.6863578 , -0.61668885],\n",
      "       [-0.4560006 , -0.6181705 , -0.40763542,  0.00577787,  0.31010613,\n",
      "         0.14569452, -0.6055147 ],\n",
      "       [-0.09194234,  0.53072387, -0.2996179 , -0.26779968, -0.740546  ,\n",
      "        -0.3311278 , -0.21095206],\n",
      "       [-0.29268426, -0.99157834, -0.46351668,  0.09125603, -0.13234901,\n",
      "         0.5084361 , -0.12782389],\n",
      "       [-0.07332769, -0.02140242,  0.7380257 ,  0.10101511, -0.5648524 ,\n",
      "        -1.1905524 , -1.0283376 ],\n",
      "       [-0.49478212, -0.06519613,  0.43349856,  0.52646595, -0.06840719,\n",
      "        -0.11394385, -0.91992104]], dtype=float32), array([-0.57365364, -0.23733014,  0.44631094,  0.280473  , -0.10917199,\n",
      "       -0.34095106, -0.5174702 ], dtype=float32)]\n"
     ]
    }
   ],
   "source": [
    "for layer in model.layers:\n",
    "    print(layer.get_weights())"
   ]
  },
  {
   "cell_type": "code",
   "execution_count": 11,
   "metadata": {},
   "outputs": [
    {
     "data": {
      "image/png": "[encoded data removed]",
      "text/plain": [
       "<Figure size 432x288 with 1 Axes>"
      ]
     },
     "metadata": {
      "needs_background": "light"
     },
     "output_type": "display_data"
    }
   ],
   "source": [
    "plt.plot(history.history['loss'], label='Train loss')\n",
    "plt.plot(history.history['val_loss'], label='Test loss')\n",
    "plt.legend();"
   ]
  },
  {
   "cell_type": "markdown",
   "metadata": {},
   "source": [
    "## Adding Regularization"
   ]
  },
  {
   "cell_type": "code",
   "execution_count": 12,
   "metadata": {},
   "outputs": [
    {
     "name": "stdout",
     "output_type": "stream",
     "text": [
      "Train on 4872 samples, validate on 1625 samples\n",
      "Epoch 1/42\n",
      "4872/4872 [==============================] - 0s 65us/step - loss: 2.3777 - acc: 0.2352 - val_loss: 1.9442 - val_acc: 0.3975\n",
      "Epoch 2/42\n",
      "4872/4872 [==============================] - 0s 26us/step - loss: 1.6998 - acc: 0.4310 - val_loss: 1.5552 - val_acc: 0.4720\n",
      "Epoch 3/42\n",
      "4872/4872 [==============================] - 0s 27us/step - loss: 1.4713 - acc: 0.5010 - val_loss: 1.4371 - val_acc: 0.5095\n",
      "Epoch 4/42\n",
      "4872/4872 [==============================] - 0s 25us/step - loss: 1.3841 - acc: 0.5324 - val_loss: 1.3765 - val_acc: 0.5280\n",
      "Epoch 5/42\n",
      "4872/4872 [==============================] - 0s 26us/step - loss: 1.3317 - acc: 0.5456 - val_loss: 1.3371 - val_acc: 0.5237\n",
      "Epoch 6/42\n",
      "4872/4872 [==============================] - 0s 26us/step - loss: 1.2943 - acc: 0.5503 - val_loss: 1.3080 - val_acc: 0.5348\n",
      "Epoch 7/42\n",
      "4872/4872 [==============================] - 0s 25us/step - loss: 1.2668 - acc: 0.5507 - val_loss: 1.2846 - val_acc: 0.5311\n",
      "Epoch 8/42\n",
      "4872/4872 [==============================] - 0s 26us/step - loss: 1.2454 - acc: 0.5542 - val_loss: 1.2672 - val_acc: 0.5317\n",
      "Epoch 9/42\n",
      "4872/4872 [==============================] - 0s 26us/step - loss: 1.2286 - acc: 0.5532 - val_loss: 1.2522 - val_acc: 0.5268\n",
      "Epoch 10/42\n",
      "4872/4872 [==============================] - 0s 26us/step - loss: 1.2143 - acc: 0.5554 - val_loss: 1.2406 - val_acc: 0.5329\n",
      "Epoch 11/42\n",
      "4872/4872 [==============================] - 0s 26us/step - loss: 1.2030 - acc: 0.5573 - val_loss: 1.2288 - val_acc: 0.5329\n",
      "Epoch 12/42\n",
      "4872/4872 [==============================] - 0s 26us/step - loss: 1.1937 - acc: 0.5560 - val_loss: 1.2219 - val_acc: 0.5335\n",
      "Epoch 13/42\n",
      "4872/4872 [==============================] - 0s 27us/step - loss: 1.1862 - acc: 0.5564 - val_loss: 1.2141 - val_acc: 0.5366\n",
      "Epoch 14/42\n",
      "4872/4872 [==============================] - 0s 26us/step - loss: 1.1798 - acc: 0.5521 - val_loss: 1.2085 - val_acc: 0.5298\n",
      "Epoch 15/42\n",
      "4872/4872 [==============================] - 0s 26us/step - loss: 1.1749 - acc: 0.5597 - val_loss: 1.2031 - val_acc: 0.5403\n",
      "Epoch 16/42\n",
      "4872/4872 [==============================] - 0s 26us/step - loss: 1.1699 - acc: 0.5546 - val_loss: 1.1982 - val_acc: 0.5372\n",
      "Epoch 17/42\n",
      "4872/4872 [==============================] - 0s 27us/step - loss: 1.1656 - acc: 0.5587 - val_loss: 1.1951 - val_acc: 0.5317\n",
      "Epoch 18/42\n",
      "4872/4872 [==============================] - 0s 26us/step - loss: 1.1623 - acc: 0.5556 - val_loss: 1.1912 - val_acc: 0.5354\n",
      "Epoch 19/42\n",
      "4872/4872 [==============================] - 0s 26us/step - loss: 1.1598 - acc: 0.5525 - val_loss: 1.1892 - val_acc: 0.5422\n",
      "Epoch 20/42\n",
      "4872/4872 [==============================] - 0s 26us/step - loss: 1.1576 - acc: 0.5530 - val_loss: 1.1871 - val_acc: 0.5385\n",
      "Epoch 21/42\n",
      "4872/4872 [==============================] - 0s 25us/step - loss: 1.1552 - acc: 0.5562 - val_loss: 1.1845 - val_acc: 0.5348\n",
      "Epoch 22/42\n",
      "4872/4872 [==============================] - 0s 27us/step - loss: 1.1536 - acc: 0.5548 - val_loss: 1.1823 - val_acc: 0.5360\n",
      "Epoch 23/42\n",
      "4872/4872 [==============================] - 0s 26us/step - loss: 1.1518 - acc: 0.5548 - val_loss: 1.1841 - val_acc: 0.5298\n",
      "Epoch 24/42\n",
      "4872/4872 [==============================] - 0s 27us/step - loss: 1.1504 - acc: 0.5550 - val_loss: 1.1799 - val_acc: 0.5366\n",
      "Epoch 25/42\n",
      "4872/4872 [==============================] - 0s 27us/step - loss: 1.1499 - acc: 0.5521 - val_loss: 1.1780 - val_acc: 0.5329\n",
      "Epoch 26/42\n",
      "4872/4872 [==============================] - 0s 27us/step - loss: 1.1475 - acc: 0.5556 - val_loss: 1.1789 - val_acc: 0.5415\n",
      "Epoch 27/42\n",
      "4872/4872 [==============================] - 0s 26us/step - loss: 1.1468 - acc: 0.5534 - val_loss: 1.1764 - val_acc: 0.5348\n",
      "Epoch 28/42\n",
      "4872/4872 [==============================] - 0s 26us/step - loss: 1.1454 - acc: 0.5548 - val_loss: 1.1755 - val_acc: 0.5292\n",
      "Epoch 29/42\n",
      "4872/4872 [==============================] - 0s 25us/step - loss: 1.1445 - acc: 0.5528 - val_loss: 1.1738 - val_acc: 0.5378\n",
      "Epoch 30/42\n",
      "4872/4872 [==============================] - 0s 25us/step - loss: 1.1433 - acc: 0.5523 - val_loss: 1.1731 - val_acc: 0.5366\n",
      "Epoch 31/42\n",
      "4872/4872 [==============================] - 0s 26us/step - loss: 1.1427 - acc: 0.5511 - val_loss: 1.1733 - val_acc: 0.5403\n",
      "Epoch 32/42\n",
      "4872/4872 [==============================] - 0s 27us/step - loss: 1.1412 - acc: 0.5571 - val_loss: 1.1723 - val_acc: 0.5440\n",
      "Epoch 33/42\n",
      "4872/4872 [==============================] - 0s 27us/step - loss: 1.1409 - acc: 0.5521 - val_loss: 1.1698 - val_acc: 0.5458\n",
      "Epoch 34/42\n",
      "4872/4872 [==============================] - 0s 26us/step - loss: 1.1403 - acc: 0.5571 - val_loss: 1.1694 - val_acc: 0.5458\n",
      "Epoch 35/42\n",
      "4872/4872 [==============================] - 0s 27us/step - loss: 1.1391 - acc: 0.5507 - val_loss: 1.1696 - val_acc: 0.5317\n",
      "Epoch 36/42\n",
      "4872/4872 [==============================] - 0s 27us/step - loss: 1.1386 - acc: 0.5476 - val_loss: 1.1685 - val_acc: 0.5446\n",
      "Epoch 37/42\n",
      "4872/4872 [==============================] - 0s 26us/step - loss: 1.1373 - acc: 0.5534 - val_loss: 1.1686 - val_acc: 0.5354\n",
      "Epoch 38/42\n",
      "4872/4872 [==============================] - 0s 26us/step - loss: 1.1364 - acc: 0.5513 - val_loss: 1.1690 - val_acc: 0.5268\n",
      "Epoch 39/42\n",
      "4872/4872 [==============================] - 0s 26us/step - loss: 1.1367 - acc: 0.5542 - val_loss: 1.1663 - val_acc: 0.5372\n",
      "Epoch 40/42\n",
      "4872/4872 [==============================] - 0s 26us/step - loss: 1.1357 - acc: 0.5542 - val_loss: 1.1664 - val_acc: 0.5458\n",
      "Epoch 41/42\n",
      "4872/4872 [==============================] - 0s 26us/step - loss: 1.1346 - acc: 0.5497 - val_loss: 1.1645 - val_acc: 0.5458\n",
      "Epoch 42/42\n",
      "4872/4872 [==============================] - 0s 25us/step - loss: 1.1342 - acc: 0.5517 - val_loss: 1.1635 - val_acc: 0.5323\n"
     ]
    }
   ],
   "source": [
    "from keras import regularizers\n",
    "\n",
    "model_r = Sequential()\n",
    "\n",
    "n_input = X_train_s.shape[1]\n",
    "n_hidden = n_input\n",
    "\n",
    "model_r.add(Dense(n_hidden, input_dim=n_input, activation='relu',\n",
    "                 kernel_regularizer=regularizers.l2(0.01)))\n",
    "model_r.add(Dense(10, activation='softmax',\n",
    "                 kernel_regularizer=regularizers.l2(0.01)))\n",
    "\n",
    "model_r.compile(loss='categorical_crossentropy', optimizer='adam', metrics=['acc'])\n",
    "\n",
    "history_r = model_r.fit(X_train_s, y_train, validation_data=(X_test_s, y_test),\n",
    "                       epochs=42, batch_size=None)"
   ]
  },
  {
   "cell_type": "code",
   "execution_count": 13,
   "metadata": {},
   "outputs": [
    {
     "data": {
      "image/png": "[encoded data removed]",
      "text/plain": [
       "<Figure size 432x288 with 1 Axes>"
      ]
     },
     "metadata": {
      "needs_background": "light"
     },
     "output_type": "display_data"
    }
   ],
   "source": [
    "plt.plot(history_r.history['loss'], label='Training loss')\n",
    "plt.plot(history_r.history['val_loss'], label='Testing loss')\n",
    "plt.legend();"
   ]
  },
  {
   "cell_type": "code",
   "execution_count": 15,
   "metadata": {},
   "outputs": [
    {
     "data": {
      "text/plain": [
       "array([[0.  , 0.  , 0.  , 0.01, 0.06, 0.37, 0.46, 0.08, 0.02, 0.  ],\n",
       "       [0.  , 0.  , 0.  , 0.  , 0.05, 0.5 , 0.4 , 0.04, 0.01, 0.  ],\n",
       "       [0.  , 0.  , 0.  , 0.  , 0.07, 0.78, 0.13, 0.01, 0.  , 0.  ],\n",
       "       [0.  , 0.  , 0.  , 0.01, 0.04, 0.57, 0.33, 0.04, 0.01, 0.  ],\n",
       "       [0.  , 0.  , 0.  , 0.  , 0.08, 0.71, 0.19, 0.01, 0.  , 0.  ]],\n",
       "      dtype=float32)"
      ]
     },
     "execution_count": 15,
     "metadata": {},
     "output_type": "execute_result"
    }
   ],
   "source": [
    "model_r.predict(X_test_s[:5]).round(2)"
   ]
  },
  {
   "cell_type": "code",
   "execution_count": 16,
   "metadata": {},
   "outputs": [
    {
     "data": {
      "text/plain": [
       "array([[0., 0., 0., 0., 0., 1., 0., 0., 0., 0.],\n",
       "       [0., 0., 0., 0., 0., 1., 0., 0., 0., 0.],\n",
       "       [0., 0., 0., 0., 0., 1., 0., 0., 0., 0.],\n",
       "       [0., 0., 0., 0., 0., 1., 0., 0., 0., 0.],\n",
       "       [0., 0., 0., 0., 0., 1., 0., 0., 0., 0.]], dtype=float32)"
      ]
     },
     "execution_count": 16,
     "metadata": {},
     "output_type": "execute_result"
    }
   ],
   "source": [
    "y_test[:5]"
   ]
  },
  {
   "cell_type": "markdown",
   "metadata": {},
   "source": [
    "### Dropout"
   ]
  },
  {
   "cell_type": "markdown",
   "metadata": {},
   "source": [
    "Here's a new regularization idea: Turn some neurons off during training. We'll assign probabilities of 'dropout' and then let fate decide.\n",
    "\n",
    "$\\rightarrow$ Why is this a good idea? *Is* it a good idea?\n",
    "\n",
    "Was this sort of regularization available to us before? Why (not)?"
   ]
  },
  {
   "cell_type": "code",
   "execution_count": 18,
   "metadata": {},
   "outputs": [
    {
     "name": "stdout",
     "output_type": "stream",
     "text": [
      "Train on 4872 samples, validate on 1625 samples\n",
      "Epoch 1/42\n",
      "4872/4872 [==============================] - 0s 79us/step - loss: 2.0313 - acc: 0.2995 - val_loss: 1.6574 - val_acc: 0.3489\n",
      "Epoch 2/42\n",
      "4872/4872 [==============================] - 0s 28us/step - loss: 1.5136 - acc: 0.4035 - val_loss: 1.3458 - val_acc: 0.4406\n",
      "Epoch 3/42\n",
      "4872/4872 [==============================] - 0s 28us/step - loss: 1.3305 - acc: 0.4602 - val_loss: 1.2351 - val_acc: 0.4843\n",
      "Epoch 4/42\n",
      "4872/4872 [==============================] - 0s 30us/step - loss: 1.2442 - acc: 0.4865 - val_loss: 1.1841 - val_acc: 0.5003\n",
      "Epoch 5/42\n",
      "4872/4872 [==============================] - 0s 28us/step - loss: 1.2081 - acc: 0.4938 - val_loss: 1.1557 - val_acc: 0.5095\n",
      "Epoch 6/42\n",
      "4872/4872 [==============================] - 0s 29us/step - loss: 1.1703 - acc: 0.5125 - val_loss: 1.1363 - val_acc: 0.5237\n",
      "Epoch 7/42\n",
      "4872/4872 [==============================] - 0s 29us/step - loss: 1.1513 - acc: 0.5248 - val_loss: 1.1258 - val_acc: 0.5305\n",
      "Epoch 8/42\n",
      "4872/4872 [==============================] - 0s 28us/step - loss: 1.1389 - acc: 0.5242 - val_loss: 1.1165 - val_acc: 0.5305\n",
      "Epoch 9/42\n",
      "4872/4872 [==============================] - 0s 27us/step - loss: 1.1327 - acc: 0.5294 - val_loss: 1.1114 - val_acc: 0.5342\n",
      "Epoch 10/42\n",
      "4872/4872 [==============================] - 0s 29us/step - loss: 1.1179 - acc: 0.5339 - val_loss: 1.1076 - val_acc: 0.5372\n",
      "Epoch 11/42\n",
      "4872/4872 [==============================] - 0s 28us/step - loss: 1.1193 - acc: 0.5382 - val_loss: 1.1041 - val_acc: 0.5305\n",
      "Epoch 12/42\n",
      "4872/4872 [==============================] - 0s 28us/step - loss: 1.1052 - acc: 0.5388 - val_loss: 1.1008 - val_acc: 0.5366\n",
      "Epoch 13/42\n",
      "4872/4872 [==============================] - 0s 29us/step - loss: 1.1063 - acc: 0.5300 - val_loss: 1.1000 - val_acc: 0.5360\n",
      "Epoch 14/42\n",
      "4872/4872 [==============================] - 0s 29us/step - loss: 1.1035 - acc: 0.5441 - val_loss: 1.0981 - val_acc: 0.5354\n",
      "Epoch 15/42\n",
      "4872/4872 [==============================] - 0s 29us/step - loss: 1.0952 - acc: 0.5382 - val_loss: 1.0973 - val_acc: 0.5409\n",
      "Epoch 16/42\n",
      "4872/4872 [==============================] - 0s 29us/step - loss: 1.0936 - acc: 0.5458 - val_loss: 1.0949 - val_acc: 0.5360\n",
      "Epoch 17/42\n",
      "4872/4872 [==============================] - 0s 29us/step - loss: 1.0885 - acc: 0.5396 - val_loss: 1.0947 - val_acc: 0.5378\n",
      "Epoch 18/42\n",
      "4872/4872 [==============================] - 0s 29us/step - loss: 1.0893 - acc: 0.5392 - val_loss: 1.0953 - val_acc: 0.5391\n",
      "Epoch 19/42\n",
      "4872/4872 [==============================] - 0s 29us/step - loss: 1.0907 - acc: 0.5454 - val_loss: 1.0943 - val_acc: 0.5385\n",
      "Epoch 20/42\n",
      "4872/4872 [==============================] - 0s 29us/step - loss: 1.0880 - acc: 0.5454 - val_loss: 1.0937 - val_acc: 0.5360\n",
      "Epoch 21/42\n",
      "4872/4872 [==============================] - 0s 27us/step - loss: 1.0885 - acc: 0.5425 - val_loss: 1.0916 - val_acc: 0.5335\n",
      "Epoch 22/42\n",
      "4872/4872 [==============================] - 0s 28us/step - loss: 1.0905 - acc: 0.5441 - val_loss: 1.0916 - val_acc: 0.5391\n",
      "Epoch 23/42\n",
      "4872/4872 [==============================] - 0s 29us/step - loss: 1.0847 - acc: 0.5443 - val_loss: 1.0903 - val_acc: 0.5385\n",
      "Epoch 24/42\n",
      "4872/4872 [==============================] - 0s 30us/step - loss: 1.0865 - acc: 0.5361 - val_loss: 1.0895 - val_acc: 0.5385\n",
      "Epoch 25/42\n",
      "4872/4872 [==============================] - 0s 30us/step - loss: 1.0817 - acc: 0.5435 - val_loss: 1.0898 - val_acc: 0.5348\n",
      "Epoch 26/42\n",
      "4872/4872 [==============================] - 0s 28us/step - loss: 1.0774 - acc: 0.5466 - val_loss: 1.0892 - val_acc: 0.5348\n",
      "Epoch 27/42\n",
      "4872/4872 [==============================] - 0s 29us/step - loss: 1.0764 - acc: 0.5472 - val_loss: 1.0877 - val_acc: 0.5354\n",
      "Epoch 28/42\n",
      "4872/4872 [==============================] - 0s 30us/step - loss: 1.0773 - acc: 0.5404 - val_loss: 1.0865 - val_acc: 0.5348\n",
      "Epoch 29/42\n",
      "4872/4872 [==============================] - 0s 29us/step - loss: 1.0826 - acc: 0.5443 - val_loss: 1.0896 - val_acc: 0.5366\n",
      "Epoch 30/42\n",
      "4872/4872 [==============================] - 0s 29us/step - loss: 1.0773 - acc: 0.5505 - val_loss: 1.0867 - val_acc: 0.5342\n",
      "Epoch 31/42\n",
      "4872/4872 [==============================] - 0s 29us/step - loss: 1.0721 - acc: 0.5468 - val_loss: 1.0868 - val_acc: 0.5372\n",
      "Epoch 32/42\n",
      "4872/4872 [==============================] - 0s 30us/step - loss: 1.0754 - acc: 0.5447 - val_loss: 1.0866 - val_acc: 0.5372\n",
      "Epoch 33/42\n",
      "4872/4872 [==============================] - 0s 29us/step - loss: 1.0685 - acc: 0.5554 - val_loss: 1.0855 - val_acc: 0.5323\n",
      "Epoch 34/42\n",
      "4872/4872 [==============================] - 0s 28us/step - loss: 1.0717 - acc: 0.5460 - val_loss: 1.0852 - val_acc: 0.5354\n",
      "Epoch 35/42\n",
      "4872/4872 [==============================] - 0s 30us/step - loss: 1.0707 - acc: 0.5447 - val_loss: 1.0846 - val_acc: 0.5409\n",
      "Epoch 36/42\n",
      "4872/4872 [==============================] - 0s 30us/step - loss: 1.0699 - acc: 0.5443 - val_loss: 1.0850 - val_acc: 0.5372\n",
      "Epoch 37/42\n",
      "4872/4872 [==============================] - 0s 27us/step - loss: 1.0657 - acc: 0.5503 - val_loss: 1.0848 - val_acc: 0.5366\n",
      "Epoch 38/42\n",
      "4872/4872 [==============================] - 0s 28us/step - loss: 1.0709 - acc: 0.5417 - val_loss: 1.0844 - val_acc: 0.5391\n",
      "Epoch 39/42\n",
      "4872/4872 [==============================] - 0s 29us/step - loss: 1.0643 - acc: 0.5495 - val_loss: 1.0846 - val_acc: 0.5354\n",
      "Epoch 40/42\n",
      "4872/4872 [==============================] - 0s 29us/step - loss: 1.0651 - acc: 0.5464 - val_loss: 1.0832 - val_acc: 0.5372\n",
      "Epoch 41/42\n",
      "4872/4872 [==============================] - 0s 28us/step - loss: 1.0631 - acc: 0.5503 - val_loss: 1.0820 - val_acc: 0.5422\n",
      "Epoch 42/42\n",
      "4872/4872 [==============================] - 0s 29us/step - loss: 1.0635 - acc: 0.5495 - val_loss: 1.0824 - val_acc: 0.5329\n"
     ]
    }
   ],
   "source": [
    "from keras.layers import Dropout\n",
    "\n",
    "model_d = Sequential()\n",
    "\n",
    "n_input = X_train_s.shape[1]\n",
    "n_hidden = n_input\n",
    "\n",
    "model_d.add(Dense(n_hidden, input_dim=n_input, activation='relu'))\n",
    "model_d.add(Dropout(rate=0.2))\n",
    "model_d.add(Dense(10, activation='softmax'))\n",
    "\n",
    "model_d.compile(loss='categorical_crossentropy', optimizer='adam', metrics=['acc'])\n",
    "\n",
    "history_d = model_d.fit(X_train_s, y_train, validation_data=(X_test_s, y_test),\n",
    "                       epochs=42, batch_size=None)"
   ]
  },
  {
   "cell_type": "code",
   "execution_count": 147,
   "metadata": {},
   "outputs": [
    {
     "data": {
      "image/png": "[encoded data removed]",
      "text/plain": [
       "<Figure size 432x288 with 1 Axes>"
      ]
     },
     "metadata": {
      "needs_background": "light"
     },
     "output_type": "display_data"
    }
   ],
   "source": [
    "plt.plot(history_d.history['loss'], label='Training loss')\n",
    "plt.plot(history_d.history['val_loss'], label='Testing loss')\n",
    "plt.legend();"
   ]
  },
  {
   "cell_type": "code",
   "execution_count": 148,
   "metadata": {},
   "outputs": [
    {
     "data": {
      "text/plain": [
       "(0.8684905207607351, 0.8650549682103671)"
      ]
     },
     "execution_count": 148,
     "metadata": {},
     "output_type": "execute_result"
    }
   ],
   "source": [
    "history_d.history['acc'][-1], history_d.history['val_acc'][-1]"
   ]
  },
  {
   "cell_type": "markdown",
   "metadata": {},
   "source": [
    "### Early Stopping"
   ]
  },
  {
   "cell_type": "markdown",
   "metadata": {},
   "source": [
    "Another idea is to try to terminate the training process early, even before some pre-specified number of epochs.\n",
    "\n",
    "$\\rightarrow$ Why is this a good idea? *Is* it a good idea?\n",
    "\n",
    "Was this sort of regularization available to us before? Why (not)?"
   ]
  },
  {
   "cell_type": "code",
   "execution_count": 149,
   "metadata": {},
   "outputs": [],
   "source": [
    "from keras.callbacks import EarlyStopping"
   ]
  },
  {
   "cell_type": "code",
   "execution_count": 22,
   "metadata": {},
   "outputs": [
    {
     "name": "stdout",
     "output_type": "stream",
     "text": [
      "Train on 4872 samples, validate on 1625 samples\n",
      "Epoch 1/20\n",
      "4872/4872 [==============================] - 0s 79us/step - loss: 1.9246 - acc: 0.4107 - val_loss: 1.6102 - val_acc: 0.4283\n",
      "Epoch 2/20\n",
      "4872/4872 [==============================] - 0s 25us/step - loss: 1.4502 - acc: 0.4575 - val_loss: 1.3689 - val_acc: 0.4498\n",
      "Epoch 3/20\n",
      "4872/4872 [==============================] - 0s 26us/step - loss: 1.2888 - acc: 0.4865 - val_loss: 1.2661 - val_acc: 0.4702\n",
      "Epoch 4/20\n",
      "4872/4872 [==============================] - 0s 26us/step - loss: 1.2115 - acc: 0.5062 - val_loss: 1.2113 - val_acc: 0.5095\n",
      "Epoch 5/20\n",
      "4872/4872 [==============================] - 0s 29us/step - loss: 1.1683 - acc: 0.5252 - val_loss: 1.1798 - val_acc: 0.5225\n",
      "Epoch 6/20\n",
      "4872/4872 [==============================] - 0s 25us/step - loss: 1.1415 - acc: 0.5335 - val_loss: 1.1621 - val_acc: 0.5188\n",
      "Epoch 7/20\n",
      "4872/4872 [==============================] - 0s 26us/step - loss: 1.1248 - acc: 0.5437 - val_loss: 1.1490 - val_acc: 0.5200\n",
      "Epoch 8/20\n",
      "4872/4872 [==============================] - 0s 25us/step - loss: 1.1125 - acc: 0.5454 - val_loss: 1.1389 - val_acc: 0.5286\n",
      "Epoch 9/20\n",
      "4872/4872 [==============================] - 0s 26us/step - loss: 1.1029 - acc: 0.5482 - val_loss: 1.1307 - val_acc: 0.5274\n",
      "Epoch 10/20\n",
      "4872/4872 [==============================] - 0s 27us/step - loss: 1.0954 - acc: 0.5501 - val_loss: 1.1241 - val_acc: 0.5237\n",
      "Epoch 11/20\n",
      "4872/4872 [==============================] - 0s 26us/step - loss: 1.0889 - acc: 0.5493 - val_loss: 1.1191 - val_acc: 0.5274\n",
      "Epoch 12/20\n",
      "4872/4872 [==============================] - 0s 26us/step - loss: 1.0832 - acc: 0.5493 - val_loss: 1.1152 - val_acc: 0.5225\n",
      "Epoch 13/20\n",
      "4872/4872 [==============================] - 0s 28us/step - loss: 1.0778 - acc: 0.5517 - val_loss: 1.1105 - val_acc: 0.5218\n",
      "Epoch 14/20\n",
      "4872/4872 [==============================] - 0s 27us/step - loss: 1.0748 - acc: 0.5511 - val_loss: 1.1078 - val_acc: 0.5298\n",
      "Epoch 15/20\n",
      "4872/4872 [==============================] - 0s 27us/step - loss: 1.0698 - acc: 0.5523 - val_loss: 1.1084 - val_acc: 0.5292\n",
      "Epoch 00015: early stopping\n"
     ]
    }
   ],
   "source": [
    "from keras.callbacks import EarlyStopping\n",
    "\n",
    "model_es = Sequential()\n",
    "\n",
    "n_input = X_train_s.shape[1]\n",
    "n_hidden = n_input\n",
    "\n",
    "model_es.add(Dense(n_hidden, input_dim=n_input, activation='relu'))\n",
    "model_es.add(Dense(10, activation='softmax'))\n",
    "\n",
    "model_es.compile(loss='categorical_crossentropy', optimizer='adam', metrics=['acc'])\n",
    "\n",
    "early_stop = EarlyStopping(monitor='val_loss', min_delta=1e-08, patience=0, verbose=1,\n",
    "                           mode='auto')\n",
    "\n",
    "callbacks_list = [early_stop]\n",
    "\n",
    "history_es = model_es.fit(X_train_s, y_train, validation_data=(X_test_s, y_test),\n",
    "                         epochs=20, batch_size=None, callbacks=callbacks_list)"
   ]
  },
  {
   "cell_type": "code",
   "execution_count": 23,
   "metadata": {},
   "outputs": [
    {
     "data": {
      "image/png": "[encoded data removed]",
      "text/plain": [
       "<Figure size 432x288 with 1 Axes>"
      ]
     },
     "metadata": {
      "needs_background": "light"
     },
     "output_type": "display_data"
    }
   ],
   "source": [
    "plt.plot(history_es.history['loss'], label='Training loss')\n",
    "plt.plot(history_es.history['val_loss'], label='Testing loss')\n",
    "plt.legend();"
   ]
  },
  {
   "cell_type": "code",
   "execution_count": null,
   "metadata": {},
   "outputs": [],
   "source": []
  }
 ],
 "metadata": {
  "kernelspec": {
   "display_name": "Python 3",
   "language": "python",
   "name": "python3"
  },
  "language_info": {
   "codemirror_mode": {
    "name": "ipython",
    "version": 3
   },
   "file_extension": ".py",
   "mimetype": "text/x-python",
   "name": "python",
   "nbconvert_exporter": "python",
   "pygments_lexer": "ipython3",
   "version": "3.7.1"
  }
 },
 "nbformat": 4,
 "nbformat_minor": 2
}
